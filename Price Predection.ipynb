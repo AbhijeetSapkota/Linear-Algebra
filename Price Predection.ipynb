{
 "cells": [
  {
   "cell_type": "code",
   "execution_count": 4,
   "metadata": {},
   "outputs": [],
   "source": [
    "import numpy as np"
   ]
  },
  {
   "cell_type": "code",
   "execution_count": 10,
   "metadata": {},
   "outputs": [
    {
     "name": "stdout",
     "output_type": "stream",
     "text": [
      "[[  4.    6. ]\n",
      " [  1.5   2. ]\n",
      " [100.  150. ]]\n"
     ]
    }
   ],
   "source": [
    "X = np.array([[4,6],\n",
    "              [1.5,2], \n",
    "              [100,150]])\n",
    "print(X)\n",
    "Y= np.array([20,30])"
   ]
  },
  {
   "cell_type": "code",
   "execution_count": 40,
   "metadata": {},
   "outputs": [
    {
     "name": "stdout",
     "output_type": "stream",
     "text": [
      "[7.98722045e-03 1.42108547e-13 1.99680511e-01]\n"
     ]
    }
   ],
   "source": [
    "B = X.T@X\n",
    "Be = np.linalg.inv(B)\n",
    "Bet = Be@X.T\n",
    "Beta = Bet.T@Y\n",
    "print(Beta)"
   ]
  },
  {
   "cell_type": "code",
   "execution_count": 42,
   "metadata": {},
   "outputs": [
    {
     "name": "stdout",
     "output_type": "stream",
     "text": [
      "The pridicted value of the car is:\n",
      "39.99999999927965\n"
     ]
    }
   ],
   "source": [
    "m = np.array([8,\n",
    "             3.0,\n",
    "             200])\n",
    "print(\"The pridicted value of the car is:\")\n",
    "print(Beta@m)"
   ]
  }
 ],
 "metadata": {
  "kernelspec": {
   "display_name": "Python 3",
   "language": "python",
   "name": "python3"
  },
  "language_info": {
   "codemirror_mode": {
    "name": "ipython",
    "version": 3
   },
   "file_extension": ".py",
   "mimetype": "text/x-python",
   "name": "python",
   "nbconvert_exporter": "python",
   "pygments_lexer": "ipython3",
   "version": "3.13.0"
  }
 },
 "nbformat": 4,
 "nbformat_minor": 2
}
